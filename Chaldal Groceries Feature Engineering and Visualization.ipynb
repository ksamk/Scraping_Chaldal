{
 "cells": [
  {
   "cell_type": "code",
   "execution_count": 26,
   "metadata": {},
   "outputs": [],
   "source": [
    "import pandas as pd\n",
    "import numpy as np\n",
    "import matplotlib.pyplot as plt\n",
    "%matplotlib inline\n",
    "import seaborn as sns"
   ]
  },
  {
   "cell_type": "code",
   "execution_count": 2,
   "metadata": {},
   "outputs": [],
   "source": [
    "df_fish = pd.read_csv('chaldal-fish.csv')\n",
    "df_veggies= pd.read_csv('chaldal-vegetable.csv')\n",
    "df_fruits=pd.read_csv('chaldal-fruits.csv')\n",
    "df_meat=pd.read_csv('chaldal-meat.csv')"
   ]
  },
  {
   "cell_type": "code",
   "execution_count": 3,
   "metadata": {},
   "outputs": [
    {
     "data": {
      "text/html": [
       "<div>\n",
       "<style scoped>\n",
       "    .dataframe tbody tr th:only-of-type {\n",
       "        vertical-align: middle;\n",
       "    }\n",
       "\n",
       "    .dataframe tbody tr th {\n",
       "        vertical-align: top;\n",
       "    }\n",
       "\n",
       "    .dataframe thead th {\n",
       "        text-align: right;\n",
       "    }\n",
       "</style>\n",
       "<table border=\"1\" class=\"dataframe\">\n",
       "  <thead>\n",
       "    <tr style=\"text-align: right;\">\n",
       "      <th></th>\n",
       "      <th>Product</th>\n",
       "      <th>Quantity</th>\n",
       "      <th>Price</th>\n",
       "      <th>Category</th>\n",
       "    </tr>\n",
       "  </thead>\n",
       "  <tbody>\n",
       "    <tr>\n",
       "      <th>0</th>\n",
       "      <td>Shrimp Bagda (12-18 pcs)</td>\n",
       "      <td>500 gm</td>\n",
       "      <td>৳ 419</td>\n",
       "      <td>Fish</td>\n",
       "    </tr>\n",
       "    <tr>\n",
       "      <th>1</th>\n",
       "      <td>Shrimp Horina (30 - 40 pcs)</td>\n",
       "      <td>500 gm</td>\n",
       "      <td>৳ 299</td>\n",
       "      <td>Fish</td>\n",
       "    </tr>\n",
       "    <tr>\n",
       "      <th>2</th>\n",
       "      <td>Telapia Fish 3/4 pcs (Net Weight After Cutting...</td>\n",
       "      <td>500 gm</td>\n",
       "      <td>৳ 119</td>\n",
       "      <td>Fish</td>\n",
       "    </tr>\n",
       "    <tr>\n",
       "      <th>3</th>\n",
       "      <td>Koi Fish 10/12 pcs (After Cutting Net Weight ±...</td>\n",
       "      <td>1 kg</td>\n",
       "      <td>৳ 239</td>\n",
       "      <td>Fish</td>\n",
       "    </tr>\n",
       "    <tr>\n",
       "      <th>4</th>\n",
       "      <td>Baila Fish</td>\n",
       "      <td>500 gm</td>\n",
       "      <td>৳ 375</td>\n",
       "      <td>Fish</td>\n",
       "    </tr>\n",
       "  </tbody>\n",
       "</table>\n",
       "</div>"
      ],
      "text/plain": [
       "                                             Product Quantity  Price Category\n",
       "0                           Shrimp Bagda (12-18 pcs)   500 gm  ৳ 419     Fish\n",
       "1                        Shrimp Horina (30 - 40 pcs)   500 gm  ৳ 299     Fish\n",
       "2  Telapia Fish 3/4 pcs (Net Weight After Cutting...   500 gm  ৳ 119     Fish\n",
       "3  Koi Fish 10/12 pcs (After Cutting Net Weight ±...     1 kg  ৳ 239     Fish\n",
       "4                                         Baila Fish   500 gm  ৳ 375     Fish"
      ]
     },
     "execution_count": 3,
     "metadata": {},
     "output_type": "execute_result"
    }
   ],
   "source": [
    "#adding a new column category\n",
    "df_fish.head(5)"
   ]
  },
  {
   "cell_type": "code",
   "execution_count": 4,
   "metadata": {},
   "outputs": [],
   "source": [
    "df_fish['Category']='Fish'"
   ]
  },
  {
   "cell_type": "code",
   "execution_count": 5,
   "metadata": {},
   "outputs": [
    {
     "data": {
      "text/html": [
       "<div>\n",
       "<style scoped>\n",
       "    .dataframe tbody tr th:only-of-type {\n",
       "        vertical-align: middle;\n",
       "    }\n",
       "\n",
       "    .dataframe tbody tr th {\n",
       "        vertical-align: top;\n",
       "    }\n",
       "\n",
       "    .dataframe thead th {\n",
       "        text-align: right;\n",
       "    }\n",
       "</style>\n",
       "<table border=\"1\" class=\"dataframe\">\n",
       "  <thead>\n",
       "    <tr style=\"text-align: right;\">\n",
       "      <th></th>\n",
       "      <th>Product</th>\n",
       "      <th>Quantity</th>\n",
       "      <th>Price</th>\n",
       "      <th>Category</th>\n",
       "    </tr>\n",
       "  </thead>\n",
       "  <tbody>\n",
       "    <tr>\n",
       "      <th>0</th>\n",
       "      <td>Shrimp Bagda (12-18 pcs)</td>\n",
       "      <td>500 gm</td>\n",
       "      <td>৳ 419</td>\n",
       "      <td>Fish</td>\n",
       "    </tr>\n",
       "    <tr>\n",
       "      <th>1</th>\n",
       "      <td>Shrimp Horina (30 - 40 pcs)</td>\n",
       "      <td>500 gm</td>\n",
       "      <td>৳ 299</td>\n",
       "      <td>Fish</td>\n",
       "    </tr>\n",
       "    <tr>\n",
       "      <th>2</th>\n",
       "      <td>Telapia Fish 3/4 pcs (Net Weight After Cutting...</td>\n",
       "      <td>500 gm</td>\n",
       "      <td>৳ 119</td>\n",
       "      <td>Fish</td>\n",
       "    </tr>\n",
       "    <tr>\n",
       "      <th>3</th>\n",
       "      <td>Koi Fish 10/12 pcs (After Cutting Net Weight ±...</td>\n",
       "      <td>1 kg</td>\n",
       "      <td>৳ 239</td>\n",
       "      <td>Fish</td>\n",
       "    </tr>\n",
       "    <tr>\n",
       "      <th>4</th>\n",
       "      <td>Baila Fish</td>\n",
       "      <td>500 gm</td>\n",
       "      <td>৳ 375</td>\n",
       "      <td>Fish</td>\n",
       "    </tr>\n",
       "  </tbody>\n",
       "</table>\n",
       "</div>"
      ],
      "text/plain": [
       "                                             Product Quantity  Price Category\n",
       "0                           Shrimp Bagda (12-18 pcs)   500 gm  ৳ 419     Fish\n",
       "1                        Shrimp Horina (30 - 40 pcs)   500 gm  ৳ 299     Fish\n",
       "2  Telapia Fish 3/4 pcs (Net Weight After Cutting...   500 gm  ৳ 119     Fish\n",
       "3  Koi Fish 10/12 pcs (After Cutting Net Weight ±...     1 kg  ৳ 239     Fish\n",
       "4                                         Baila Fish   500 gm  ৳ 375     Fish"
      ]
     },
     "execution_count": 5,
     "metadata": {},
     "output_type": "execute_result"
    }
   ],
   "source": [
    "df_fish.head(5)"
   ]
  },
  {
   "cell_type": "code",
   "execution_count": 6,
   "metadata": {},
   "outputs": [],
   "source": [
    "df_fish=df_fish.rename(columns={'Product Name': 'Product'})"
   ]
  },
  {
   "cell_type": "code",
   "execution_count": 7,
   "metadata": {},
   "outputs": [],
   "source": [
    "df_fish.to_csv(r'C:\\Users\\Admin\\Documents\\GITHUB ALL ML PUSH PULL\\Scraping\\chaldal-fish.csv', index=False)\n"
   ]
  },
  {
   "cell_type": "code",
   "execution_count": 8,
   "metadata": {},
   "outputs": [],
   "source": [
    "df_veggies['Category']='Vegetable'"
   ]
  },
  {
   "cell_type": "code",
   "execution_count": 9,
   "metadata": {},
   "outputs": [
    {
     "data": {
      "text/html": [
       "<div>\n",
       "<style scoped>\n",
       "    .dataframe tbody tr th:only-of-type {\n",
       "        vertical-align: middle;\n",
       "    }\n",
       "\n",
       "    .dataframe tbody tr th {\n",
       "        vertical-align: top;\n",
       "    }\n",
       "\n",
       "    .dataframe thead th {\n",
       "        text-align: right;\n",
       "    }\n",
       "</style>\n",
       "<table border=\"1\" class=\"dataframe\">\n",
       "  <thead>\n",
       "    <tr style=\"text-align: right;\">\n",
       "      <th></th>\n",
       "      <th>Product</th>\n",
       "      <th>Quantity</th>\n",
       "      <th>Price</th>\n",
       "      <th>Category</th>\n",
       "    </tr>\n",
       "  </thead>\n",
       "  <tbody>\n",
       "    <tr>\n",
       "      <th>0</th>\n",
       "      <td>Onion Red (Imported)</td>\n",
       "      <td>1 kg</td>\n",
       "      <td>৳ 89</td>\n",
       "      <td>Vegetable</td>\n",
       "    </tr>\n",
       "    <tr>\n",
       "      <th>1</th>\n",
       "      <td>Onion (TCB Imported)</td>\n",
       "      <td>1 kg</td>\n",
       "      <td>৳ 36</td>\n",
       "      <td>Vegetable</td>\n",
       "    </tr>\n",
       "    <tr>\n",
       "      <th>2</th>\n",
       "      <td>Potato Regular (Net Weight ± 50 gm)</td>\n",
       "      <td>1 kg</td>\n",
       "      <td>৳ 49</td>\n",
       "      <td>Vegetable</td>\n",
       "    </tr>\n",
       "    <tr>\n",
       "      <th>3</th>\n",
       "      <td>Onion Yellow (Imported)</td>\n",
       "      <td>1 kg</td>\n",
       "      <td>৳ 69</td>\n",
       "      <td>Vegetable</td>\n",
       "    </tr>\n",
       "    <tr>\n",
       "      <th>4</th>\n",
       "      <td>Onion (Local)</td>\n",
       "      <td>1 kg</td>\n",
       "      <td>৳ 89</td>\n",
       "      <td>Vegetable</td>\n",
       "    </tr>\n",
       "  </tbody>\n",
       "</table>\n",
       "</div>"
      ],
      "text/plain": [
       "                               Product Quantity Price   Category\n",
       "0                 Onion Red (Imported)     1 kg  ৳ 89  Vegetable\n",
       "1                 Onion (TCB Imported)     1 kg  ৳ 36  Vegetable\n",
       "2  Potato Regular (Net Weight ± 50 gm)     1 kg  ৳ 49  Vegetable\n",
       "3              Onion Yellow (Imported)     1 kg  ৳ 69  Vegetable\n",
       "4                        Onion (Local)     1 kg  ৳ 89  Vegetable"
      ]
     },
     "execution_count": 9,
     "metadata": {},
     "output_type": "execute_result"
    }
   ],
   "source": [
    "df_veggies.head(5)"
   ]
  },
  {
   "cell_type": "code",
   "execution_count": 10,
   "metadata": {},
   "outputs": [],
   "source": [
    "df_veggies=df_veggies.rename(columns={'Product Name': 'Product'})"
   ]
  },
  {
   "cell_type": "code",
   "execution_count": 11,
   "metadata": {},
   "outputs": [],
   "source": [
    "df_veggies.to_csv(r'C:\\Users\\Admin\\Documents\\GITHUB ALL ML PUSH PULL\\Scraping\\chaldal-vegetable.csv', index=False)\n"
   ]
  },
  {
   "cell_type": "code",
   "execution_count": 12,
   "metadata": {},
   "outputs": [],
   "source": [
    "df_fruits['Category']='Fruit'\n",
    "df_meat['Category']='Meat'"
   ]
  },
  {
   "cell_type": "code",
   "execution_count": 13,
   "metadata": {},
   "outputs": [],
   "source": [
    "df_fruits=df_fruits.rename(columns={'Product Name': 'Product'})\n",
    "df_meat=df_meat.rename(columns={'Product Name': 'Product'})"
   ]
  },
  {
   "cell_type": "code",
   "execution_count": 14,
   "metadata": {},
   "outputs": [],
   "source": [
    "df_fruits.to_csv(r'C:\\Users\\Admin\\Documents\\GITHUB ALL ML PUSH PULL\\Scraping\\chaldal-fruits.csv', index=False)\n",
    "df_meat.to_csv(r'C:\\Users\\Admin\\Documents\\GITHUB ALL ML PUSH PULL\\Scraping\\chaldal-meat.csv', index=False)\n"
   ]
  },
  {
   "cell_type": "code",
   "execution_count": 15,
   "metadata": {},
   "outputs": [],
   "source": [
    "df_final = pd.concat([df_fruits, df_veggies,df_meat,df_fish])"
   ]
  },
  {
   "cell_type": "code",
   "execution_count": 16,
   "metadata": {},
   "outputs": [
    {
     "data": {
      "text/plain": [
       "(107, 4)"
      ]
     },
     "execution_count": 16,
     "metadata": {},
     "output_type": "execute_result"
    }
   ],
   "source": [
    "df_final.shape"
   ]
  },
  {
   "cell_type": "code",
   "execution_count": 17,
   "metadata": {},
   "outputs": [],
   "source": [
    "import seaborn as sns"
   ]
  },
  {
   "cell_type": "code",
   "execution_count": 18,
   "metadata": {},
   "outputs": [],
   "source": [
    "df_final['Price'] = df_final['Price'].replace({'\\৳': '', ',': ''}, regex=True)"
   ]
  },
  {
   "cell_type": "code",
   "execution_count": 53,
   "metadata": {},
   "outputs": [
    {
     "data": {
      "text/html": [
       "<div>\n",
       "<style scoped>\n",
       "    .dataframe tbody tr th:only-of-type {\n",
       "        vertical-align: middle;\n",
       "    }\n",
       "\n",
       "    .dataframe tbody tr th {\n",
       "        vertical-align: top;\n",
       "    }\n",
       "\n",
       "    .dataframe thead th {\n",
       "        text-align: right;\n",
       "    }\n",
       "</style>\n",
       "<table border=\"1\" class=\"dataframe\">\n",
       "  <thead>\n",
       "    <tr style=\"text-align: right;\">\n",
       "      <th></th>\n",
       "      <th>Product</th>\n",
       "      <th>Quantity</th>\n",
       "      <th>Price</th>\n",
       "      <th>Category</th>\n",
       "    </tr>\n",
       "  </thead>\n",
       "  <tbody>\n",
       "    <tr>\n",
       "      <th>0</th>\n",
       "      <td>Malta (Net Weight ± 50 gm)</td>\n",
       "      <td>2 kg</td>\n",
       "      <td>400</td>\n",
       "      <td>Fruit</td>\n",
       "    </tr>\n",
       "    <tr>\n",
       "      <th>1</th>\n",
       "      <td>Banana Chompa</td>\n",
       "      <td>12 pcs</td>\n",
       "      <td>59</td>\n",
       "      <td>Fruit</td>\n",
       "    </tr>\n",
       "    <tr>\n",
       "      <th>2</th>\n",
       "      <td>Malta (Net Weight ± 50 gm)</td>\n",
       "      <td>1 kg</td>\n",
       "      <td>200</td>\n",
       "      <td>Fruit</td>\n",
       "    </tr>\n",
       "    <tr>\n",
       "      <th>3</th>\n",
       "      <td>Guava Thai (Net Weight ± 50 gm)</td>\n",
       "      <td>1 kg</td>\n",
       "      <td>79</td>\n",
       "      <td>Fruit</td>\n",
       "    </tr>\n",
       "    <tr>\n",
       "      <th>4</th>\n",
       "      <td>Pineapple</td>\n",
       "      <td>each</td>\n",
       "      <td>59</td>\n",
       "      <td>Fruit</td>\n",
       "    </tr>\n",
       "    <tr>\n",
       "      <th>...</th>\n",
       "      <td>...</td>\n",
       "      <td>...</td>\n",
       "      <td>...</td>\n",
       "      <td>...</td>\n",
       "    </tr>\n",
       "    <tr>\n",
       "      <th>17</th>\n",
       "      <td>Poa Fish</td>\n",
       "      <td>500 gm</td>\n",
       "      <td>330</td>\n",
       "      <td>Fish</td>\n",
       "    </tr>\n",
       "    <tr>\n",
       "      <th>18</th>\n",
       "      <td>Kaski Fish</td>\n",
       "      <td>500 gm</td>\n",
       "      <td>259</td>\n",
       "      <td>Fish</td>\n",
       "    </tr>\n",
       "    <tr>\n",
       "      <th>19</th>\n",
       "      <td>Baim Fish Medium</td>\n",
       "      <td>500 gm</td>\n",
       "      <td>399</td>\n",
       "      <td>Fish</td>\n",
       "    </tr>\n",
       "    <tr>\n",
       "      <th>20</th>\n",
       "      <td>Whole Frozen Hilsha (Net Weight ± 50 Gm)</td>\n",
       "      <td>900 gm</td>\n",
       "      <td>1100</td>\n",
       "      <td>Fish</td>\n",
       "    </tr>\n",
       "    <tr>\n",
       "      <th>21</th>\n",
       "      <td>Tilapia Fillet</td>\n",
       "      <td>500 gm</td>\n",
       "      <td>730</td>\n",
       "      <td>Fish</td>\n",
       "    </tr>\n",
       "  </tbody>\n",
       "</table>\n",
       "<p>107 rows × 4 columns</p>\n",
       "</div>"
      ],
      "text/plain": [
       "                                     Product Quantity  Price Category\n",
       "0                 Malta (Net Weight ± 50 gm)     2 kg    400    Fruit\n",
       "1                              Banana Chompa   12 pcs     59    Fruit\n",
       "2                 Malta (Net Weight ± 50 gm)     1 kg    200    Fruit\n",
       "3            Guava Thai (Net Weight ± 50 gm)     1 kg     79    Fruit\n",
       "4                                  Pineapple     each     59    Fruit\n",
       "..                                       ...      ...    ...      ...\n",
       "17                                  Poa Fish   500 gm    330     Fish\n",
       "18                                Kaski Fish   500 gm    259     Fish\n",
       "19                          Baim Fish Medium   500 gm    399     Fish\n",
       "20  Whole Frozen Hilsha (Net Weight ± 50 Gm)   900 gm   1100     Fish\n",
       "21                            Tilapia Fillet   500 gm    730     Fish\n",
       "\n",
       "[107 rows x 4 columns]"
      ]
     },
     "execution_count": 53,
     "metadata": {},
     "output_type": "execute_result"
    }
   ],
   "source": [
    "df_final.head(200)"
   ]
  },
  {
   "cell_type": "code",
   "execution_count": 59,
   "metadata": {},
   "outputs": [
    {
     "data": {
      "text/plain": [
       "(107, 4)"
      ]
     },
     "execution_count": 59,
     "metadata": {},
     "output_type": "execute_result"
    }
   ],
   "source": [
    "df_final.shape"
   ]
  },
  {
   "cell_type": "code",
   "execution_count": 60,
   "metadata": {},
   "outputs": [
    {
     "data": {
      "text/plain": [
       "Product     object\n",
       "Quantity    object\n",
       "Price       object\n",
       "Category    object\n",
       "dtype: object"
      ]
     },
     "execution_count": 60,
     "metadata": {},
     "output_type": "execute_result"
    }
   ],
   "source": [
    "df_final.dtypes"
   ]
  },
  {
   "cell_type": "code",
   "execution_count": null,
   "metadata": {},
   "outputs": [],
   "source": [
    "# Converting Price column from object to int "
   ]
  },
  {
   "cell_type": "code",
   "execution_count": 61,
   "metadata": {},
   "outputs": [],
   "source": [
    "df_final['Price'] = pd.to_numeric(df_final['Price'])"
   ]
  },
  {
   "cell_type": "code",
   "execution_count": 75,
   "metadata": {},
   "outputs": [
    {
     "data": {
      "text/plain": [
       "Product     object\n",
       "Quantity    object\n",
       "Price        int64\n",
       "Category    object\n",
       "dtype: object"
      ]
     },
     "execution_count": 75,
     "metadata": {},
     "output_type": "execute_result"
    }
   ],
   "source": [
    "df_final.dtypes"
   ]
  },
  {
   "cell_type": "code",
   "execution_count": 70,
   "metadata": {},
   "outputs": [
    {
     "data": {
      "text/html": [
       "<div>\n",
       "<style scoped>\n",
       "    .dataframe tbody tr th:only-of-type {\n",
       "        vertical-align: middle;\n",
       "    }\n",
       "\n",
       "    .dataframe tbody tr th {\n",
       "        vertical-align: top;\n",
       "    }\n",
       "\n",
       "    .dataframe thead th {\n",
       "        text-align: right;\n",
       "    }\n",
       "</style>\n",
       "<table border=\"1\" class=\"dataframe\">\n",
       "  <thead>\n",
       "    <tr style=\"text-align: right;\">\n",
       "      <th></th>\n",
       "      <th>Product</th>\n",
       "      <th>Quantity</th>\n",
       "      <th>Price</th>\n",
       "      <th>Category</th>\n",
       "    </tr>\n",
       "  </thead>\n",
       "  <tbody>\n",
       "    <tr>\n",
       "      <th>16</th>\n",
       "      <td>Whole Frozen Hilsha (Net Weight ± 50 gm)</td>\n",
       "      <td>1 kg</td>\n",
       "      <td>1200</td>\n",
       "      <td>Fish</td>\n",
       "    </tr>\n",
       "  </tbody>\n",
       "</table>\n",
       "</div>"
      ],
      "text/plain": [
       "                                     Product Quantity  Price Category\n",
       "16  Whole Frozen Hilsha (Net Weight ± 50 gm)     1 kg   1200     Fish"
      ]
     },
     "execution_count": 70,
     "metadata": {},
     "output_type": "execute_result"
    }
   ],
   "source": [
    "df_final[df_final['Price']==df_final['Price'].max()]"
   ]
  },
  {
   "cell_type": "code",
   "execution_count": 74,
   "metadata": {},
   "outputs": [
    {
     "data": {
      "text/plain": [
       "16    1200\n",
       "20    1100\n",
       "10     940\n",
       "11     880\n",
       "21     730\n",
       "Name: Price, dtype: int64"
      ]
     },
     "execution_count": 74,
     "metadata": {},
     "output_type": "execute_result"
    }
   ],
   "source": [
    "df_final['Price'].nlargest(5)"
   ]
  },
  {
   "cell_type": "code",
   "execution_count": 78,
   "metadata": {},
   "outputs": [
    {
     "data": {
      "text/plain": [
       "<matplotlib.axes._subplots.AxesSubplot at 0x1df2d598be0>"
      ]
     },
     "execution_count": 78,
     "metadata": {},
     "output_type": "execute_result"
    },
    {
     "data": {
      "image/png": "[encoded data removed]",
      "text/plain": [
       "<Figure size 1440x576 with 1 Axes>"
      ]
     },
     "metadata": {
      "needs_background": "light"
     },
     "output_type": "display_data"
    }
   ],
   "source": [
    "plt.figure(figsize=(20, 8))\n",
    "sns.scatterplot(data=df_final, x=\"Price\", y=\"Category\",hue=\"Category\", style=\"Category\",s=80)"
   ]
  },
  {
   "cell_type": "code",
   "execution_count": null,
   "metadata": {},
   "outputs": [],
   "source": []
  }
 ],
 "metadata": {
  "kernelspec": {
   "display_name": "Python 3",
   "language": "python",
   "name": "python3"
  },
  "language_info": {
   "codemirror_mode": {
    "name": "ipython",
    "version": 3
   },
   "file_extension": ".py",
   "mimetype": "text/x-python",
   "name": "python",
   "nbconvert_exporter": "python",
   "pygments_lexer": "ipython3",
   "version": "3.6.10"
  }
 },
 "nbformat": 4,
 "nbformat_minor": 4
}
