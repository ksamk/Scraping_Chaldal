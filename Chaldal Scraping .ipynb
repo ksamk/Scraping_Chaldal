{
 "cells": [
  {
   "cell_type": "code",
   "execution_count": 2,
   "metadata": {},
   "outputs": [],
   "source": [
    "import requests\n",
    "from bs4 import BeautifulSoup\n",
    "import pandas as pd"
   ]
  },
  {
   "cell_type": "code",
   "execution_count": 3,
   "metadata": {},
   "outputs": [],
   "source": [
    "baseurl= 'https://chaldal.com/'\n",
    "headers = {\n",
    "    'User-Agent': 'Mozilla/5.0 (Windows NT 10.0; Win64; x64; rv:82.0) Gecko/20100101 Firefox/82.0'\n",
    "}\n",
    "\n"
   ]
  },
  {
   "cell_type": "markdown",
   "metadata": {},
   "source": [
    "Fresh Vegetables"
   ]
  },
  {
   "cell_type": "code",
   "execution_count": 4,
   "metadata": {},
   "outputs": [],
   "source": [
    "r = requests.get('https://chaldal.com/fresh-vegetable')\n",
    "soup = BeautifulSoup(r.content, 'lxml')\n",
    "\n"
   ]
  },
  {
   "cell_type": "code",
   "execution_count": 5,
   "metadata": {},
   "outputs": [],
   "source": [
    "productlist = soup.find_all('div', class_='product')\n",
    "\n",
    "productname = []\n",
    "quantity = []\n",
    "price = []\n"
   ]
  },
  {
   "cell_type": "code",
   "execution_count": 6,
   "metadata": {},
   "outputs": [],
   "source": [
    "# PRODUCT NAME\n",
    "\n",
    "for item in productlist:\n",
    "    for i in item.find_all('div', class_='imageWrapper'):\n",
    "        for j in i.find_all('div', class_= 'name'):\n",
    "            productname.append(j.text)"
   ]
  },
  {
   "cell_type": "code",
   "execution_count": 7,
   "metadata": {},
   "outputs": [],
   "source": [
    "# AMOUNT\n",
    "\n",
    "for item in productlist:\n",
    "    for i in item.find_all('div', class_='imageWrapper'):\n",
    "        for j in i.find_all('div', class_= 'subText'):\n",
    "            quantity.append(j.text)"
   ]
  },
  {
   "cell_type": "code",
   "execution_count": 8,
   "metadata": {},
   "outputs": [],
   "source": [
    "# PRICE\n",
    "\n",
    "for item in productlist:\n",
    "    for i in item.find_all('div', class_='imageWrapper'):\n",
    "        for j in i.find_all('div', class_= 'price'):\n",
    "            price.append(j.text)\n"
   ]
  },
  {
   "cell_type": "code",
   "execution_count": 9,
   "metadata": {},
   "outputs": [],
   "source": [
    "productlist = {'Product Name': productname,'Quantity': quantity, 'Price': price} "
   ]
  },
  {
   "cell_type": "code",
   "execution_count": 10,
   "metadata": {
    "scrolled": true
   },
   "outputs": [
    {
     "data": {
      "text/html": [
       "<div>\n",
       "<style scoped>\n",
       "    .dataframe tbody tr th:only-of-type {\n",
       "        vertical-align: middle;\n",
       "    }\n",
       "\n",
       "    .dataframe tbody tr th {\n",
       "        vertical-align: top;\n",
       "    }\n",
       "\n",
       "    .dataframe thead th {\n",
       "        text-align: right;\n",
       "    }\n",
       "</style>\n",
       "<table border=\"1\" class=\"dataframe\">\n",
       "  <thead>\n",
       "    <tr style=\"text-align: right;\">\n",
       "      <th></th>\n",
       "      <th>Product Name</th>\n",
       "      <th>Quantity</th>\n",
       "      <th>Price</th>\n",
       "    </tr>\n",
       "  </thead>\n",
       "  <tbody>\n",
       "    <tr>\n",
       "      <th>0</th>\n",
       "      <td>Onion Red (Imported)</td>\n",
       "      <td>1 kg</td>\n",
       "      <td>৳ 89</td>\n",
       "    </tr>\n",
       "    <tr>\n",
       "      <th>1</th>\n",
       "      <td>Onion (TCB Imported)</td>\n",
       "      <td>1 kg</td>\n",
       "      <td>৳ 36</td>\n",
       "    </tr>\n",
       "    <tr>\n",
       "      <th>2</th>\n",
       "      <td>Potato Regular (Net Weight ± 50 gm)</td>\n",
       "      <td>1 kg</td>\n",
       "      <td>৳ 49</td>\n",
       "    </tr>\n",
       "    <tr>\n",
       "      <th>3</th>\n",
       "      <td>Onion Yellow (Imported)</td>\n",
       "      <td>1 kg</td>\n",
       "      <td>৳ 69</td>\n",
       "    </tr>\n",
       "    <tr>\n",
       "      <th>4</th>\n",
       "      <td>Onion (Local)</td>\n",
       "      <td>1 kg</td>\n",
       "      <td>৳ 89</td>\n",
       "    </tr>\n",
       "  </tbody>\n",
       "</table>\n",
       "</div>"
      ],
      "text/plain": [
       "                          Product Name Quantity Price\n",
       "0                 Onion Red (Imported)     1 kg  ৳ 89\n",
       "1                 Onion (TCB Imported)     1 kg  ৳ 36\n",
       "2  Potato Regular (Net Weight ± 50 gm)     1 kg  ৳ 49\n",
       "3              Onion Yellow (Imported)     1 kg  ৳ 69\n",
       "4                        Onion (Local)     1 kg  ৳ 89"
      ]
     },
     "execution_count": 10,
     "metadata": {},
     "output_type": "execute_result"
    }
   ],
   "source": [
    "df = pd.DataFrame(productlist)\n",
    "df.head()"
   ]
  },
  {
   "cell_type": "code",
   "execution_count": 11,
   "metadata": {},
   "outputs": [],
   "source": [
    "df.to_csv(r'C:\\Users\\Admin\\Documents\\GITHUB ALL ML PUSH PULL\\Scraping\\chaldal-vegetable.csv', index=False)\n"
   ]
  },
  {
   "cell_type": "code",
   "execution_count": null,
   "metadata": {},
   "outputs": [],
   "source": []
  },
  {
   "cell_type": "raw",
   "metadata": {},
   "source": [
    "Fresh Fruits"
   ]
  },
  {
   "cell_type": "code",
   "execution_count": 12,
   "metadata": {},
   "outputs": [],
   "source": [
    "r_2 = requests.get('https://chaldal.com/fresh-fruit')\n",
    "soup = BeautifulSoup(r_2.content, 'lxml')\n",
    "\n"
   ]
  },
  {
   "cell_type": "code",
   "execution_count": 13,
   "metadata": {},
   "outputs": [],
   "source": [
    "productlist = soup.find_all('div', class_='product')\n",
    "\n",
    "productname = []\n",
    "quantity = []\n",
    "price = []\n"
   ]
  },
  {
   "cell_type": "code",
   "execution_count": 14,
   "metadata": {},
   "outputs": [],
   "source": [
    "# PRODUCT NAME\n",
    "\n",
    "for item in productlist:\n",
    "    for i in item.find_all('div', class_='imageWrapper'):\n",
    "        for j in i.find_all('div', class_= 'name'):\n",
    "            productname.append(j.text)"
   ]
  },
  {
   "cell_type": "code",
   "execution_count": 15,
   "metadata": {},
   "outputs": [],
   "source": [
    "# AMOUNT\n",
    "\n",
    "for item in productlist:\n",
    "    for i in item.find_all('div', class_='imageWrapper'):\n",
    "        for j in i.find_all('div', class_= 'subText'):\n",
    "            quantity.append(j.text)"
   ]
  },
  {
   "cell_type": "code",
   "execution_count": 16,
   "metadata": {},
   "outputs": [],
   "source": [
    "# PRICE\n",
    "\n",
    "for item in productlist:\n",
    "    for i in item.find_all('div', class_='imageWrapper'):\n",
    "        for j in i.find_all('div', class_= 'price'):\n",
    "            price.append(j.text)\n"
   ]
  },
  {
   "cell_type": "code",
   "execution_count": 17,
   "metadata": {},
   "outputs": [],
   "source": [
    "productlist = {'Product Name': productname,'Quantity': quantity, 'Price': price} "
   ]
  },
  {
   "cell_type": "code",
   "execution_count": 18,
   "metadata": {},
   "outputs": [
    {
     "data": {
      "text/html": [
       "<div>\n",
       "<style scoped>\n",
       "    .dataframe tbody tr th:only-of-type {\n",
       "        vertical-align: middle;\n",
       "    }\n",
       "\n",
       "    .dataframe tbody tr th {\n",
       "        vertical-align: top;\n",
       "    }\n",
       "\n",
       "    .dataframe thead th {\n",
       "        text-align: right;\n",
       "    }\n",
       "</style>\n",
       "<table border=\"1\" class=\"dataframe\">\n",
       "  <thead>\n",
       "    <tr style=\"text-align: right;\">\n",
       "      <th></th>\n",
       "      <th>Product Name</th>\n",
       "      <th>Quantity</th>\n",
       "      <th>Price</th>\n",
       "    </tr>\n",
       "  </thead>\n",
       "  <tbody>\n",
       "    <tr>\n",
       "      <th>0</th>\n",
       "      <td>Malta (Net Weight ± 50 gm)</td>\n",
       "      <td>2 kg</td>\n",
       "      <td>৳ 400</td>\n",
       "    </tr>\n",
       "    <tr>\n",
       "      <th>1</th>\n",
       "      <td>Banana Chompa</td>\n",
       "      <td>12 pcs</td>\n",
       "      <td>৳ 59</td>\n",
       "    </tr>\n",
       "    <tr>\n",
       "      <th>2</th>\n",
       "      <td>Malta (Net Weight ± 50 gm)</td>\n",
       "      <td>1 kg</td>\n",
       "      <td>৳ 200</td>\n",
       "    </tr>\n",
       "    <tr>\n",
       "      <th>3</th>\n",
       "      <td>Guava Thai (Net Weight ± 50 gm)</td>\n",
       "      <td>1 kg</td>\n",
       "      <td>৳ 79</td>\n",
       "    </tr>\n",
       "    <tr>\n",
       "      <th>4</th>\n",
       "      <td>Pineapple</td>\n",
       "      <td>each</td>\n",
       "      <td>৳ 59</td>\n",
       "    </tr>\n",
       "  </tbody>\n",
       "</table>\n",
       "</div>"
      ],
      "text/plain": [
       "                      Product Name Quantity  Price\n",
       "0       Malta (Net Weight ± 50 gm)     2 kg  ৳ 400\n",
       "1                    Banana Chompa   12 pcs   ৳ 59\n",
       "2       Malta (Net Weight ± 50 gm)     1 kg  ৳ 200\n",
       "3  Guava Thai (Net Weight ± 50 gm)     1 kg   ৳ 79\n",
       "4                        Pineapple     each   ৳ 59"
      ]
     },
     "execution_count": 18,
     "metadata": {},
     "output_type": "execute_result"
    }
   ],
   "source": [
    "df = pd.DataFrame(productlist)\n",
    "df.head()"
   ]
  },
  {
   "cell_type": "code",
   "execution_count": 19,
   "metadata": {},
   "outputs": [],
   "source": [
    "df.to_csv(r'C:\\Users\\Admin\\Documents\\GITHUB ALL ML PUSH PULL\\Scraping\\chaldal-fruits.csv', index=False)\n"
   ]
  },
  {
   "cell_type": "code",
   "execution_count": null,
   "metadata": {},
   "outputs": [],
   "source": []
  }
 ],
 "metadata": {
  "kernelspec": {
   "display_name": "Python 3",
   "language": "python",
   "name": "python3"
  },
  "language_info": {
   "codemirror_mode": {
    "name": "ipython",
    "version": 3
   },
   "file_extension": ".py",
   "mimetype": "text/x-python",
   "name": "python",
   "nbconvert_exporter": "python",
   "pygments_lexer": "ipython3",
   "version": "3.6.10"
  }
 },
 "nbformat": 4,
 "nbformat_minor": 4
}
