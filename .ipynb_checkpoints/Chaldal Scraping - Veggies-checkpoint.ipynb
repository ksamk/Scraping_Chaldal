{
 "cells": [
  {
   "cell_type": "code",
   "execution_count": 129,
   "metadata": {},
   "outputs": [],
   "source": [
    "import requests\n",
    "from bs4 import BeautifulSoup\n",
    "import pandas as pd"
   ]
  },
  {
   "cell_type": "code",
   "execution_count": 130,
   "metadata": {},
   "outputs": [],
   "source": [
    "baseurl= 'https://chaldal.com/'\n",
    "headers = {\n",
    "    'User-Agent': 'Mozilla/5.0 (Windows NT 10.0; Win64; x64; rv:82.0) Gecko/20100101 Firefox/82.0'\n",
    "}\n",
    "\n"
   ]
  },
  {
   "cell_type": "code",
   "execution_count": 131,
   "metadata": {},
   "outputs": [],
   "source": [
    "r = requests.get('https://chaldal.com/fresh-vegetable')\n",
    "soup = BeautifulSoup(r.content, 'lxml')\n",
    "\n"
   ]
  },
  {
   "cell_type": "code",
   "execution_count": 132,
   "metadata": {},
   "outputs": [],
   "source": [
    "productlist = soup.find_all('div', class_='product')\n",
    "\n",
    "productname = []\n",
    "quantity = []\n",
    "price = []\n"
   ]
  },
  {
   "cell_type": "code",
   "execution_count": 133,
   "metadata": {},
   "outputs": [],
   "source": [
    "# PRODUCT NAME\n",
    "\n",
    "for item in productlist:\n",
    "    for i in item.find_all('div', class_='imageWrapper'):\n",
    "        for name in i.find_all('div', class_= 'name'):\n",
    "            productname.append(name.text)"
   ]
  },
  {
   "cell_type": "code",
   "execution_count": 134,
   "metadata": {},
   "outputs": [],
   "source": [
    "# AMOUNT\n",
    "\n",
    "for item in productlist:\n",
    "    for i in item.find_all('div', class_='imageWrapper'):\n",
    "        for name in i.find_all('div', class_= 'subText'):\n",
    "            quantity.append(name.text)"
   ]
  },
  {
   "cell_type": "code",
   "execution_count": 135,
   "metadata": {},
   "outputs": [],
   "source": [
    "# PRICE\n",
    "\n",
    "for item in productlist:\n",
    "    for i in item.find_all('div', class_='imageWrapper'):\n",
    "        for name in i.find_all('div', class_= 'price'):\n",
    "            price.append(name.text)\n"
   ]
  },
  {
   "cell_type": "code",
   "execution_count": 136,
   "metadata": {},
   "outputs": [],
   "source": [
    "productlist = {'Productname': productname,'Quantity': quantity, 'Price': price} "
   ]
  },
  {
   "cell_type": "code",
   "execution_count": 137,
   "metadata": {},
   "outputs": [
    {
     "data": {
      "text/html": [
       "<div>\n",
       "<style scoped>\n",
       "    .dataframe tbody tr th:only-of-type {\n",
       "        vertical-align: middle;\n",
       "    }\n",
       "\n",
       "    .dataframe tbody tr th {\n",
       "        vertical-align: top;\n",
       "    }\n",
       "\n",
       "    .dataframe thead th {\n",
       "        text-align: right;\n",
       "    }\n",
       "</style>\n",
       "<table border=\"1\" class=\"dataframe\">\n",
       "  <thead>\n",
       "    <tr style=\"text-align: right;\">\n",
       "      <th></th>\n",
       "      <th>Productname</th>\n",
       "      <th>Quantity</th>\n",
       "      <th>Price</th>\n",
       "    </tr>\n",
       "  </thead>\n",
       "  <tbody>\n",
       "    <tr>\n",
       "      <th>0</th>\n",
       "      <td>Onion Red (Imported)</td>\n",
       "      <td>1 kg</td>\n",
       "      <td>৳ 89</td>\n",
       "    </tr>\n",
       "    <tr>\n",
       "      <th>1</th>\n",
       "      <td>Potato Regular (Net Weight ± 50 gm)</td>\n",
       "      <td>1 kg</td>\n",
       "      <td>৳ 49</td>\n",
       "    </tr>\n",
       "    <tr>\n",
       "      <th>2</th>\n",
       "      <td>Onion Yellow (Imported)</td>\n",
       "      <td>1 kg</td>\n",
       "      <td>৳ 69</td>\n",
       "    </tr>\n",
       "    <tr>\n",
       "      <th>3</th>\n",
       "      <td>Onion (Local)</td>\n",
       "      <td>1 kg</td>\n",
       "      <td>৳ 89</td>\n",
       "    </tr>\n",
       "    <tr>\n",
       "      <th>4</th>\n",
       "      <td>Garlic Imported (Net Weight ± 10 gm)</td>\n",
       "      <td>500 gm</td>\n",
       "      <td>৳ 55</td>\n",
       "    </tr>\n",
       "  </tbody>\n",
       "</table>\n",
       "</div>"
      ],
      "text/plain": [
       "                            Productname Quantity Price\n",
       "0                  Onion Red (Imported)     1 kg  ৳ 89\n",
       "1   Potato Regular (Net Weight ± 50 gm)     1 kg  ৳ 49\n",
       "2               Onion Yellow (Imported)     1 kg  ৳ 69\n",
       "3                         Onion (Local)     1 kg  ৳ 89\n",
       "4  Garlic Imported (Net Weight ± 10 gm)   500 gm  ৳ 55"
      ]
     },
     "execution_count": 137,
     "metadata": {},
     "output_type": "execute_result"
    }
   ],
   "source": [
    "df = pd.DataFrame(productlist)\n",
    "df.head()"
   ]
  },
  {
   "cell_type": "code",
   "execution_count": 138,
   "metadata": {},
   "outputs": [],
   "source": [
    "df.to_csv(r'D:\\DataScience_ML-Projects\\Scraped Data\\Chaldal\\chaldal-vegetable.csv', index=False)\n"
   ]
  },
  {
   "cell_type": "code",
   "execution_count": null,
   "metadata": {},
   "outputs": [],
   "source": []
  },
  {
   "cell_type": "code",
   "execution_count": null,
   "metadata": {},
   "outputs": [],
   "source": []
  }
 ],
 "metadata": {
  "kernelspec": {
   "display_name": "Python 3",
   "language": "python",
   "name": "python3"
  },
  "language_info": {
   "codemirror_mode": {
    "name": "ipython",
    "version": 3
   },
   "file_extension": ".py",
   "mimetype": "text/x-python",
   "name": "python",
   "nbconvert_exporter": "python",
   "pygments_lexer": "ipython3",
   "version": "3.6.10"
  }
 },
 "nbformat": 4,
 "nbformat_minor": 4
}
