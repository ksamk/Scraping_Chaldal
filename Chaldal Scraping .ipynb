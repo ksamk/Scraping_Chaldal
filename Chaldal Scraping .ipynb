{
 "cells": [
  {
   "cell_type": "code",
   "execution_count": 1,
   "metadata": {},
   "outputs": [],
   "source": [
    "import requests\n",
    "from bs4 import BeautifulSoup\n",
    "import pandas as pd"
   ]
  },
  {
   "cell_type": "code",
   "execution_count": 2,
   "metadata": {},
   "outputs": [],
   "source": [
    "baseurl= 'https://chaldal.com/'\n",
    "headers = {\n",
    "    'User-Agent': 'Mozilla/5.0 (Windows NT 10.0; Win64; x64; rv:82.0) Gecko/20100101 Firefox/82.0'\n",
    "}\n",
    "\n"
   ]
  },
  {
   "cell_type": "markdown",
   "metadata": {},
   "source": [
    "# Fresh Vegetables"
   ]
  },
  {
   "cell_type": "code",
   "execution_count": 3,
   "metadata": {},
   "outputs": [],
   "source": [
    "r = requests.get('https://chaldal.com/fresh-vegetable')\n",
    "soup = BeautifulSoup(r.content, 'lxml')\n",
    "\n"
   ]
  },
  {
   "cell_type": "code",
   "execution_count": 4,
   "metadata": {},
   "outputs": [],
   "source": [
    "productlist = soup.find_all('div', class_='product')\n",
    "\n",
    "productname = []\n",
    "quantity = []\n",
    "price = []\n"
   ]
  },
  {
   "cell_type": "code",
   "execution_count": 5,
   "metadata": {},
   "outputs": [],
   "source": [
    "# PRODUCT NAME\n",
    "\n",
    "for item in productlist:\n",
    "    for i in item.find_all('div', class_='imageWrapper'):\n",
    "        for j in i.find_all('div', class_= 'name'):\n",
    "            productname.append(j.text)"
   ]
  },
  {
   "cell_type": "code",
   "execution_count": 6,
   "metadata": {},
   "outputs": [],
   "source": [
    "# AMOUNT\n",
    "\n",
    "for item in productlist:\n",
    "    for i in item.find_all('div', class_='imageWrapper'):\n",
    "        for j in i.find_all('div', class_= 'subText'):\n",
    "            quantity.append(j.text)"
   ]
  },
  {
   "cell_type": "code",
   "execution_count": 7,
   "metadata": {},
   "outputs": [],
   "source": [
    "# PRICE\n",
    "\n",
    "for item in productlist:\n",
    "    for i in item.find_all('div', class_='imageWrapper'):\n",
    "        for j in i.find_all('div', class_= 'price'):\n",
    "            price.append(j.text)\n"
   ]
  },
  {
   "cell_type": "code",
   "execution_count": 8,
   "metadata": {},
   "outputs": [],
   "source": [
    "productlist = {'Product Name': productname,'Quantity': quantity, 'Price': price} "
   ]
  },
  {
   "cell_type": "code",
   "execution_count": 9,
   "metadata": {
    "scrolled": true
   },
   "outputs": [
    {
     "data": {
      "text/html": [
       "<div>\n",
       "<style scoped>\n",
       "    .dataframe tbody tr th:only-of-type {\n",
       "        vertical-align: middle;\n",
       "    }\n",
       "\n",
       "    .dataframe tbody tr th {\n",
       "        vertical-align: top;\n",
       "    }\n",
       "\n",
       "    .dataframe thead th {\n",
       "        text-align: right;\n",
       "    }\n",
       "</style>\n",
       "<table border=\"1\" class=\"dataframe\">\n",
       "  <thead>\n",
       "    <tr style=\"text-align: right;\">\n",
       "      <th></th>\n",
       "      <th>Product Name</th>\n",
       "      <th>Quantity</th>\n",
       "      <th>Price</th>\n",
       "    </tr>\n",
       "  </thead>\n",
       "  <tbody>\n",
       "    <tr>\n",
       "      <th>0</th>\n",
       "      <td>Onion Red (Imported)</td>\n",
       "      <td>1 kg</td>\n",
       "      <td>৳ 89</td>\n",
       "    </tr>\n",
       "    <tr>\n",
       "      <th>1</th>\n",
       "      <td>Onion (TCB Imported)</td>\n",
       "      <td>1 kg</td>\n",
       "      <td>৳ 36</td>\n",
       "    </tr>\n",
       "    <tr>\n",
       "      <th>2</th>\n",
       "      <td>Potato Regular (Net Weight ± 50 gm)</td>\n",
       "      <td>1 kg</td>\n",
       "      <td>৳ 49</td>\n",
       "    </tr>\n",
       "    <tr>\n",
       "      <th>3</th>\n",
       "      <td>Onion Yellow (Imported)</td>\n",
       "      <td>1 kg</td>\n",
       "      <td>৳ 69</td>\n",
       "    </tr>\n",
       "    <tr>\n",
       "      <th>4</th>\n",
       "      <td>Onion (Local)</td>\n",
       "      <td>1 kg</td>\n",
       "      <td>৳ 89</td>\n",
       "    </tr>\n",
       "  </tbody>\n",
       "</table>\n",
       "</div>"
      ],
      "text/plain": [
       "                          Product Name Quantity Price\n",
       "0                 Onion Red (Imported)     1 kg  ৳ 89\n",
       "1                 Onion (TCB Imported)     1 kg  ৳ 36\n",
       "2  Potato Regular (Net Weight ± 50 gm)     1 kg  ৳ 49\n",
       "3              Onion Yellow (Imported)     1 kg  ৳ 69\n",
       "4                        Onion (Local)     1 kg  ৳ 89"
      ]
     },
     "execution_count": 9,
     "metadata": {},
     "output_type": "execute_result"
    }
   ],
   "source": [
    "df = pd.DataFrame(productlist)\n",
    "df.head()"
   ]
  },
  {
   "cell_type": "code",
   "execution_count": 10,
   "metadata": {},
   "outputs": [],
   "source": [
    "df.to_csv(r'C:\\Users\\Admin\\Documents\\GITHUB ALL ML PUSH PULL\\Scraping\\chaldal-vegetable.csv', index=False)\n"
   ]
  },
  {
   "cell_type": "code",
   "execution_count": null,
   "metadata": {},
   "outputs": [],
   "source": []
  },
  {
   "cell_type": "markdown",
   "metadata": {},
   "source": [
    "# Fresh Fruits"
   ]
  },
  {
   "cell_type": "code",
   "execution_count": 11,
   "metadata": {},
   "outputs": [],
   "source": [
    "r_2 = requests.get('https://chaldal.com/fresh-fruit')\n",
    "soup = BeautifulSoup(r_2.content, 'lxml')\n",
    "\n"
   ]
  },
  {
   "cell_type": "code",
   "execution_count": 12,
   "metadata": {},
   "outputs": [],
   "source": [
    "productlist = soup.find_all('div', class_='product')\n",
    "\n",
    "productname = []\n",
    "quantity = []\n",
    "price = []\n"
   ]
  },
  {
   "cell_type": "code",
   "execution_count": 13,
   "metadata": {},
   "outputs": [],
   "source": [
    "# PRODUCT NAME\n",
    "\n",
    "for item in productlist:\n",
    "    for i in item.find_all('div', class_='imageWrapper'):\n",
    "        for j in i.find_all('div', class_= 'name'):\n",
    "            productname.append(j.text)"
   ]
  },
  {
   "cell_type": "code",
   "execution_count": 14,
   "metadata": {},
   "outputs": [],
   "source": [
    "# AMOUNT\n",
    "\n",
    "for item in productlist:\n",
    "    for i in item.find_all('div', class_='imageWrapper'):\n",
    "        for j in i.find_all('div', class_= 'subText'):\n",
    "            quantity.append(j.text)"
   ]
  },
  {
   "cell_type": "code",
   "execution_count": 15,
   "metadata": {},
   "outputs": [],
   "source": [
    "# PRICE\n",
    "\n",
    "for item in productlist:\n",
    "    for i in item.find_all('div', class_='imageWrapper'):\n",
    "        for j in i.find_all('div', class_= 'price'):\n",
    "            price.append(j.text)\n"
   ]
  },
  {
   "cell_type": "code",
   "execution_count": 16,
   "metadata": {},
   "outputs": [],
   "source": [
    "productlist = {'Product Name': productname,'Quantity': quantity, 'Price': price} "
   ]
  },
  {
   "cell_type": "code",
   "execution_count": 17,
   "metadata": {},
   "outputs": [
    {
     "data": {
      "text/html": [
       "<div>\n",
       "<style scoped>\n",
       "    .dataframe tbody tr th:only-of-type {\n",
       "        vertical-align: middle;\n",
       "    }\n",
       "\n",
       "    .dataframe tbody tr th {\n",
       "        vertical-align: top;\n",
       "    }\n",
       "\n",
       "    .dataframe thead th {\n",
       "        text-align: right;\n",
       "    }\n",
       "</style>\n",
       "<table border=\"1\" class=\"dataframe\">\n",
       "  <thead>\n",
       "    <tr style=\"text-align: right;\">\n",
       "      <th></th>\n",
       "      <th>Product Name</th>\n",
       "      <th>Quantity</th>\n",
       "      <th>Price</th>\n",
       "    </tr>\n",
       "  </thead>\n",
       "  <tbody>\n",
       "    <tr>\n",
       "      <th>0</th>\n",
       "      <td>Malta (Net Weight ± 50 gm)</td>\n",
       "      <td>2 kg</td>\n",
       "      <td>৳ 400</td>\n",
       "    </tr>\n",
       "    <tr>\n",
       "      <th>1</th>\n",
       "      <td>Banana Chompa</td>\n",
       "      <td>12 pcs</td>\n",
       "      <td>৳ 59</td>\n",
       "    </tr>\n",
       "    <tr>\n",
       "      <th>2</th>\n",
       "      <td>Malta (Net Weight ± 50 gm)</td>\n",
       "      <td>1 kg</td>\n",
       "      <td>৳ 200</td>\n",
       "    </tr>\n",
       "    <tr>\n",
       "      <th>3</th>\n",
       "      <td>Guava Thai (Net Weight ± 50 gm)</td>\n",
       "      <td>1 kg</td>\n",
       "      <td>৳ 79</td>\n",
       "    </tr>\n",
       "    <tr>\n",
       "      <th>4</th>\n",
       "      <td>Pineapple</td>\n",
       "      <td>each</td>\n",
       "      <td>৳ 59</td>\n",
       "    </tr>\n",
       "  </tbody>\n",
       "</table>\n",
       "</div>"
      ],
      "text/plain": [
       "                      Product Name Quantity  Price\n",
       "0       Malta (Net Weight ± 50 gm)     2 kg  ৳ 400\n",
       "1                    Banana Chompa   12 pcs   ৳ 59\n",
       "2       Malta (Net Weight ± 50 gm)     1 kg  ৳ 200\n",
       "3  Guava Thai (Net Weight ± 50 gm)     1 kg   ৳ 79\n",
       "4                        Pineapple     each   ৳ 59"
      ]
     },
     "execution_count": 17,
     "metadata": {},
     "output_type": "execute_result"
    }
   ],
   "source": [
    "df = pd.DataFrame(productlist)\n",
    "df.head()"
   ]
  },
  {
   "cell_type": "code",
   "execution_count": 18,
   "metadata": {},
   "outputs": [],
   "source": [
    "df.to_csv(r'C:\\Users\\Admin\\Documents\\GITHUB ALL ML PUSH PULL\\Scraping\\chaldal-fruits.csv', index=False)\n"
   ]
  },
  {
   "cell_type": "code",
   "execution_count": null,
   "metadata": {},
   "outputs": [],
   "source": []
  },
  {
   "cell_type": "markdown",
   "metadata": {},
   "source": [
    "# Meat\n"
   ]
  },
  {
   "cell_type": "code",
   "execution_count": 19,
   "metadata": {},
   "outputs": [],
   "source": [
    "r_3 = requests.get('https://chaldal.com/meat')\n",
    "soup = BeautifulSoup(r_3.content, 'lxml')\n",
    "\n"
   ]
  },
  {
   "cell_type": "code",
   "execution_count": 20,
   "metadata": {},
   "outputs": [],
   "source": [
    "productlist = soup.find_all('div', class_='product')\n",
    "\n",
    "productname = []\n",
    "quantity = []\n",
    "price = []\n"
   ]
  },
  {
   "cell_type": "code",
   "execution_count": 21,
   "metadata": {},
   "outputs": [],
   "source": [
    "# PRODUCT NAME\n",
    "\n",
    "for item in productlist:\n",
    "    for i in item.find_all('div', class_='imageWrapper'):\n",
    "        for j in i.find_all('div', class_= 'name'):\n",
    "            productname.append(j.text)"
   ]
  },
  {
   "cell_type": "code",
   "execution_count": 22,
   "metadata": {},
   "outputs": [],
   "source": [
    "# AMOUNT\n",
    "\n",
    "for item in productlist:\n",
    "    for i in item.find_all('div', class_='imageWrapper'):\n",
    "        for j in i.find_all('div', class_= 'subText'):\n",
    "            quantity.append(j.text)"
   ]
  },
  {
   "cell_type": "code",
   "execution_count": 23,
   "metadata": {},
   "outputs": [],
   "source": [
    "# PRICE\n",
    "\n",
    "for item in productlist:\n",
    "    for i in item.find_all('div', class_='imageWrapper'):\n",
    "        for j in i.find_all('div', class_= 'price'):\n",
    "            price.append(j.text)\n"
   ]
  },
  {
   "cell_type": "code",
   "execution_count": 24,
   "metadata": {},
   "outputs": [],
   "source": [
    "productlist = {'Product Name': productname,'Quantity': quantity, 'Price': price} "
   ]
  },
  {
   "cell_type": "code",
   "execution_count": 25,
   "metadata": {},
   "outputs": [
    {
     "data": {
      "text/html": [
       "<div>\n",
       "<style scoped>\n",
       "    .dataframe tbody tr th:only-of-type {\n",
       "        vertical-align: middle;\n",
       "    }\n",
       "\n",
       "    .dataframe tbody tr th {\n",
       "        vertical-align: top;\n",
       "    }\n",
       "\n",
       "    .dataframe thead th {\n",
       "        text-align: right;\n",
       "    }\n",
       "</style>\n",
       "<table border=\"1\" class=\"dataframe\">\n",
       "  <thead>\n",
       "    <tr style=\"text-align: right;\">\n",
       "      <th></th>\n",
       "      <th>Product Name</th>\n",
       "      <th>Quantity</th>\n",
       "      <th>Price</th>\n",
       "    </tr>\n",
       "  </thead>\n",
       "  <tbody>\n",
       "    <tr>\n",
       "      <th>0</th>\n",
       "      <td>Broiler Chicken Skin Off (Net Weight ± 50 gm)</td>\n",
       "      <td>1 kg</td>\n",
       "      <td>৳ 219</td>\n",
       "    </tr>\n",
       "    <tr>\n",
       "      <th>1</th>\n",
       "      <td>Cock Chicken Skin Off (Net Weight  ± 30 gm)</td>\n",
       "      <td>500 gm</td>\n",
       "      <td>৳ 229</td>\n",
       "    </tr>\n",
       "    <tr>\n",
       "      <th>2</th>\n",
       "      <td>Bengal Meat Beef Bone In (Net Weight ± 50 gm)</td>\n",
       "      <td>1 kg</td>\n",
       "      <td>৳ 635</td>\n",
       "    </tr>\n",
       "    <tr>\n",
       "      <th>3</th>\n",
       "      <td>Chicken Boneless Breast (Net Weight ± 50 gm)</td>\n",
       "      <td>1 kg</td>\n",
       "      <td>৳ 349</td>\n",
       "    </tr>\n",
       "    <tr>\n",
       "      <th>4</th>\n",
       "      <td>Broiler Chicken Skin On (Net Weight ± 50 gm)</td>\n",
       "      <td>1 kg</td>\n",
       "      <td>৳ 209</td>\n",
       "    </tr>\n",
       "  </tbody>\n",
       "</table>\n",
       "</div>"
      ],
      "text/plain": [
       "                                    Product Name Quantity  Price\n",
       "0  Broiler Chicken Skin Off (Net Weight ± 50 gm)     1 kg  ৳ 219\n",
       "1    Cock Chicken Skin Off (Net Weight  ± 30 gm)   500 gm  ৳ 229\n",
       "2  Bengal Meat Beef Bone In (Net Weight ± 50 gm)     1 kg  ৳ 635\n",
       "3   Chicken Boneless Breast (Net Weight ± 50 gm)     1 kg  ৳ 349\n",
       "4   Broiler Chicken Skin On (Net Weight ± 50 gm)     1 kg  ৳ 209"
      ]
     },
     "execution_count": 25,
     "metadata": {},
     "output_type": "execute_result"
    }
   ],
   "source": [
    "df = pd.DataFrame(productlist)\n",
    "df.head()"
   ]
  },
  {
   "cell_type": "code",
   "execution_count": 26,
   "metadata": {},
   "outputs": [],
   "source": [
    "df.to_csv(r'C:\\Users\\Admin\\Documents\\GITHUB ALL ML PUSH PULL\\Scraping\\chaldal-meat.csv', index=False)\n"
   ]
  },
  {
   "cell_type": "code",
   "execution_count": null,
   "metadata": {},
   "outputs": [],
   "source": []
  },
  {
   "cell_type": "markdown",
   "metadata": {},
   "source": [
    "# FISH\n"
   ]
  },
  {
   "cell_type": "code",
   "execution_count": 27,
   "metadata": {},
   "outputs": [],
   "source": [
    "r_3 = requests.get('https://chaldal.com/fresh-fish-2')\n",
    "soup = BeautifulSoup(r_3.content, 'lxml')\n",
    "\n"
   ]
  },
  {
   "cell_type": "code",
   "execution_count": 28,
   "metadata": {},
   "outputs": [],
   "source": [
    "productlist = soup.find_all('div', class_='product')\n",
    "\n",
    "productname = []\n",
    "quantity = []\n",
    "price = []\n"
   ]
  },
  {
   "cell_type": "code",
   "execution_count": 29,
   "metadata": {},
   "outputs": [],
   "source": [
    "# PRODUCT NAME\n",
    "\n",
    "for item in productlist:\n",
    "    for i in item.find_all('div', class_='imageWrapper'):\n",
    "        for j in i.find_all('div', class_= 'name'):\n",
    "            productname.append(j.text)"
   ]
  },
  {
   "cell_type": "code",
   "execution_count": 30,
   "metadata": {},
   "outputs": [],
   "source": [
    "# AMOUNT\n",
    "\n",
    "for item in productlist:\n",
    "    for i in item.find_all('div', class_='imageWrapper'):\n",
    "        for j in i.find_all('div', class_= 'subText'):\n",
    "            quantity.append(j.text)"
   ]
  },
  {
   "cell_type": "code",
   "execution_count": 31,
   "metadata": {},
   "outputs": [],
   "source": [
    "# PRICE\n",
    "\n",
    "for item in productlist:\n",
    "    for i in item.find_all('div', class_='imageWrapper'):\n",
    "        for j in i.find_all('div', class_= 'price'):\n",
    "            price.append(j.text)\n"
   ]
  },
  {
   "cell_type": "code",
   "execution_count": 32,
   "metadata": {},
   "outputs": [],
   "source": [
    "productlist = {'Product Name': productname,'Quantity': quantity, 'Price': price} "
   ]
  },
  {
   "cell_type": "code",
   "execution_count": 35,
   "metadata": {},
   "outputs": [
    {
     "data": {
      "text/html": [
       "<div>\n",
       "<style scoped>\n",
       "    .dataframe tbody tr th:only-of-type {\n",
       "        vertical-align: middle;\n",
       "    }\n",
       "\n",
       "    .dataframe tbody tr th {\n",
       "        vertical-align: top;\n",
       "    }\n",
       "\n",
       "    .dataframe thead th {\n",
       "        text-align: right;\n",
       "    }\n",
       "</style>\n",
       "<table border=\"1\" class=\"dataframe\">\n",
       "  <thead>\n",
       "    <tr style=\"text-align: right;\">\n",
       "      <th></th>\n",
       "      <th>Product Name</th>\n",
       "      <th>Quantity</th>\n",
       "      <th>Price</th>\n",
       "    </tr>\n",
       "  </thead>\n",
       "  <tbody>\n",
       "    <tr>\n",
       "      <th>0</th>\n",
       "      <td>Shrimp Bagda (12-18 pcs)</td>\n",
       "      <td>500 gm</td>\n",
       "      <td>৳ 419</td>\n",
       "    </tr>\n",
       "    <tr>\n",
       "      <th>1</th>\n",
       "      <td>Shrimp Horina (30 - 40 pcs)</td>\n",
       "      <td>500 gm</td>\n",
       "      <td>৳ 299</td>\n",
       "    </tr>\n",
       "    <tr>\n",
       "      <th>2</th>\n",
       "      <td>Telapia Fish 3/4 pcs (Net Weight After Cutting...</td>\n",
       "      <td>500 gm</td>\n",
       "      <td>৳ 119</td>\n",
       "    </tr>\n",
       "    <tr>\n",
       "      <th>3</th>\n",
       "      <td>Koi Fish 10/12 pcs (After Cutting Net Weight ±...</td>\n",
       "      <td>1 kg</td>\n",
       "      <td>৳ 239</td>\n",
       "    </tr>\n",
       "    <tr>\n",
       "      <th>4</th>\n",
       "      <td>Baila Fish</td>\n",
       "      <td>500 gm</td>\n",
       "      <td>৳ 375</td>\n",
       "    </tr>\n",
       "    <tr>\n",
       "      <th>5</th>\n",
       "      <td>Shrimp Golda (10-15 pcs)</td>\n",
       "      <td>500 gm</td>\n",
       "      <td>৳ 379</td>\n",
       "    </tr>\n",
       "    <tr>\n",
       "      <th>6</th>\n",
       "      <td>Deshi Pangas (Net Weight ±50 gm)</td>\n",
       "      <td>1.5 kg</td>\n",
       "      <td>৳ 219</td>\n",
       "    </tr>\n",
       "    <tr>\n",
       "      <th>7</th>\n",
       "      <td>Rui Fish Steak Family Cut (Net Weight ± 50 Gm)</td>\n",
       "      <td>1 kg</td>\n",
       "      <td>৳ 449</td>\n",
       "    </tr>\n",
       "    <tr>\n",
       "      <th>8</th>\n",
       "      <td>Rui Fish Steak Chinese Cut (Net Weight ± 50 Gm)</td>\n",
       "      <td>1.5 kg</td>\n",
       "      <td>৳ 699</td>\n",
       "    </tr>\n",
       "    <tr>\n",
       "      <th>9</th>\n",
       "      <td>Deshi Mola Fish</td>\n",
       "      <td>250 gm</td>\n",
       "      <td>৳ 99</td>\n",
       "    </tr>\n",
       "    <tr>\n",
       "      <th>10</th>\n",
       "      <td>Tatkini Fish</td>\n",
       "      <td>500 gm</td>\n",
       "      <td>৳ 159</td>\n",
       "    </tr>\n",
       "    <tr>\n",
       "      <th>11</th>\n",
       "      <td>Pabda Fish</td>\n",
       "      <td>400 gm</td>\n",
       "      <td>৳ 499</td>\n",
       "    </tr>\n",
       "    <tr>\n",
       "      <th>12</th>\n",
       "      <td>Shing Fish (After Cutting)</td>\n",
       "      <td>500 gm</td>\n",
       "      <td>৳ 309</td>\n",
       "    </tr>\n",
       "    <tr>\n",
       "      <th>13</th>\n",
       "      <td>Basa Dory Fish Fillet</td>\n",
       "      <td>1 kg</td>\n",
       "      <td>৳ 580</td>\n",
       "    </tr>\n",
       "    <tr>\n",
       "      <th>14</th>\n",
       "      <td>Tengra Fish Deshi</td>\n",
       "      <td>400 gm</td>\n",
       "      <td>৳ 305</td>\n",
       "    </tr>\n",
       "    <tr>\n",
       "      <th>15</th>\n",
       "      <td>Prawn Headless (25/30 pcs)</td>\n",
       "      <td>500 gm</td>\n",
       "      <td>৳ 600</td>\n",
       "    </tr>\n",
       "    <tr>\n",
       "      <th>16</th>\n",
       "      <td>Whole Frozen Hilsha (Net Weight ± 50 gm)</td>\n",
       "      <td>1 kg</td>\n",
       "      <td>৳ 1,200</td>\n",
       "    </tr>\n",
       "    <tr>\n",
       "      <th>17</th>\n",
       "      <td>Poa Fish</td>\n",
       "      <td>500 gm</td>\n",
       "      <td>৳ 330</td>\n",
       "    </tr>\n",
       "    <tr>\n",
       "      <th>18</th>\n",
       "      <td>Kaski Fish</td>\n",
       "      <td>500 gm</td>\n",
       "      <td>৳ 259</td>\n",
       "    </tr>\n",
       "    <tr>\n",
       "      <th>19</th>\n",
       "      <td>Baim Fish Medium</td>\n",
       "      <td>500 gm</td>\n",
       "      <td>৳ 399</td>\n",
       "    </tr>\n",
       "    <tr>\n",
       "      <th>20</th>\n",
       "      <td>Whole Frozen Hilsha (Net Weight ± 50 Gm)</td>\n",
       "      <td>900 gm</td>\n",
       "      <td>৳ 1,100</td>\n",
       "    </tr>\n",
       "    <tr>\n",
       "      <th>21</th>\n",
       "      <td>Tilapia Fillet</td>\n",
       "      <td>500 gm</td>\n",
       "      <td>৳ 730</td>\n",
       "    </tr>\n",
       "  </tbody>\n",
       "</table>\n",
       "</div>"
      ],
      "text/plain": [
       "                                         Product Name Quantity    Price\n",
       "0                            Shrimp Bagda (12-18 pcs)   500 gm    ৳ 419\n",
       "1                         Shrimp Horina (30 - 40 pcs)   500 gm    ৳ 299\n",
       "2   Telapia Fish 3/4 pcs (Net Weight After Cutting...   500 gm    ৳ 119\n",
       "3   Koi Fish 10/12 pcs (After Cutting Net Weight ±...     1 kg    ৳ 239\n",
       "4                                          Baila Fish   500 gm    ৳ 375\n",
       "5                            Shrimp Golda (10-15 pcs)   500 gm    ৳ 379\n",
       "6                    Deshi Pangas (Net Weight ±50 gm)   1.5 kg    ৳ 219\n",
       "7      Rui Fish Steak Family Cut (Net Weight ± 50 Gm)     1 kg    ৳ 449\n",
       "8     Rui Fish Steak Chinese Cut (Net Weight ± 50 Gm)   1.5 kg    ৳ 699\n",
       "9                                     Deshi Mola Fish   250 gm     ৳ 99\n",
       "10                                       Tatkini Fish   500 gm    ৳ 159\n",
       "11                                         Pabda Fish   400 gm    ৳ 499\n",
       "12                         Shing Fish (After Cutting)   500 gm    ৳ 309\n",
       "13                              Basa Dory Fish Fillet     1 kg    ৳ 580\n",
       "14                                  Tengra Fish Deshi   400 gm    ৳ 305\n",
       "15                         Prawn Headless (25/30 pcs)   500 gm    ৳ 600\n",
       "16           Whole Frozen Hilsha (Net Weight ± 50 gm)     1 kg  ৳ 1,200\n",
       "17                                           Poa Fish   500 gm    ৳ 330\n",
       "18                                         Kaski Fish   500 gm    ৳ 259\n",
       "19                                   Baim Fish Medium   500 gm    ৳ 399\n",
       "20           Whole Frozen Hilsha (Net Weight ± 50 Gm)   900 gm  ৳ 1,100\n",
       "21                                     Tilapia Fillet   500 gm    ৳ 730"
      ]
     },
     "execution_count": 35,
     "metadata": {},
     "output_type": "execute_result"
    }
   ],
   "source": [
    "df = pd.DataFrame(productlist)\n",
    "df.head(30)"
   ]
  },
  {
   "cell_type": "code",
   "execution_count": 36,
   "metadata": {},
   "outputs": [],
   "source": [
    "df.to_csv(r'C:\\Users\\Admin\\Documents\\GITHUB ALL ML PUSH PULL\\Scraping\\chaldal-fish.csv', index=False)\n"
   ]
  },
  {
   "cell_type": "code",
   "execution_count": null,
   "metadata": {},
   "outputs": [],
   "source": []
  }
 ],
 "metadata": {
  "kernelspec": {
   "display_name": "Python 3",
   "language": "python",
   "name": "python3"
  },
  "language_info": {
   "codemirror_mode": {
    "name": "ipython",
    "version": 3
   },
   "file_extension": ".py",
   "mimetype": "text/x-python",
   "name": "python",
   "nbconvert_exporter": "python",
   "pygments_lexer": "ipython3",
   "version": "3.6.10"
  }
 },
 "nbformat": 4,
 "nbformat_minor": 4
}
